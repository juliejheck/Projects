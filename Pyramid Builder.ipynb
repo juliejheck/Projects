{
 "cells": [
  {
   "cell_type": "code",
   "execution_count": 36,
   "metadata": {},
   "outputs": [],
   "source": [
    "from PIL import Image, ImageDraw\n",
   ]
  },
  {
   "cell_type": "code",
   "execution_count": 37,
   "metadata": {},
   "outputs": [],
   "source": [
    "#creates the background\n",
    "def create_background():\n",
    "    img = Image.new('RGB', (800, 400), color = 'indigo')\n",
    "    return img"
   ]
  },
  {
   "cell_type": "code",
   "execution_count": 38,
   "metadata": {},
   "outputs": [],
   "source": [
    "#creates a single block of pyramid\n",
    "def create_block(x,y):\n",
    "    von_x = x \n",
    "    von_y = y\n",
    "    bis_x = von_x + 50\n",
    "    bis_y = von_y + 20\n",
    "    d = ImageDraw.Draw(background)\n",
    "    position = [(von_x,von_y),(bis_x, bis_y)]\n",
    "    d.rectangle(position, outline=(255,229,50))"
   ]
  },
  {
   "cell_type": "code",
   "execution_count": 39,
   "metadata": {},
   "outputs": [],
   "source": [
    "#creates pyramid\n",
    "def create_pyramide(size):\n",
    "    #size = create_block(x+50,y)\n",
    "    x = 20 \n",
    "    y = 380\n",
    "    shift = 50\n",
    "    next_level = 0\n",
    "    \n",
    "\n",
    "    for i in range(0,size):\n",
    "        number_of_blocks = size - i\n",
    "        for j in range(0,number_of_blocks):\n",
    "            create_block(x + (j * shift), y - next_level )\n",
    "        #end of 2nd for loop\n",
    "        next_level += 20\n",
    "        x += 25"
   ]
  },
  {
   "cell_type": "code",
   "execution_count": 44,
   "metadata": {},
   "outputs": [
    {
     "data": {
      "image/png": "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\n",
      "text/plain": [
       "<PIL.Image.Image image mode=RGB size=800x400 at 0x211B01136D8>"
      ]
     },
     "execution_count": 44,
     "metadata": {},
     "output_type": "execute_result"
    }
   ],
   "source": [
    "background = create_background()\n",
    "create_pyramide(15) \n",
    "#background.show()\n",
    "background"
   ]
  },
  {
   "cell_type": "code",
   "execution_count": null,
   "metadata": {},
   "outputs": [],
   "source": []
  }
 ],
 "metadata": {
  "kernelspec": {
   "display_name": "Python 3",
   "language": "python",
   "name": "python3"
  },
  "language_info": {
   "codemirror_mode": {
    "name": "ipython",
    "version": 3
   },
   "file_extension": ".py",
   "mimetype": "text/x-python",
   "name": "python",
   "nbconvert_exporter": "python",
   "pygments_lexer": "ipython3",
   "version": "3.7.3"
  }
 },
 "nbformat": 4,
 "nbformat_minor": 2
}
