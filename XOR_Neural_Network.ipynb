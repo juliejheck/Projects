{
 "cells": [
  {
   "cell_type": "code",
   "execution_count": 28,
   "metadata": {},
   "outputs": [],
   "source": [
    "import numpy as np\n",
    "import matplotlib.pyplot as plt"
   ]
  },
  {
   "cell_type": "code",
   "execution_count": 36,
   "metadata": {},
   "outputs": [],
   "source": [
    "class Neural_Network():\n",
    "    def __init__(self, input_data, output_layer, learning_rate):\n",
    "        self.input_layer = input_data\n",
    "        self.learning_rate = learning_rate\n",
    "        \n",
    "        self.weights1 = np.random.rand(self.input_layer.shape[1],2)\n",
    "        self.weights2 = np.random.rand(2,1)\n",
    "        self.bias1 = 0\n",
    "        self.bias2 = 0\n",
    "        \n",
    "        self.real_output = output_layer\n",
    "        self.predicted_output = np.zeros(self.real_output.shape)\n",
    "\n",
    "# define activation function (in this case, sigmoid function)        \n",
    "    def sigmoid(self,z):\n",
    "        return 1/(1 + np.exp(-z))\n",
    "\n",
    "# define sigmoid derivative for backpropogation    \n",
    "    def sigmoid_derivative(self, z):\n",
    "        return z * (1 - z)\n",
    "\n",
    "# feed forward process\n",
    "# O---------->O\n",
    "    def prediction(self, input_array): \n",
    "        #input_array is the first layer in this case\n",
    "        self.input_layer = input_array\n",
    "        \n",
    "        #calculation of Layer_2\n",
    "        #np.dot (dot product) is for matrix multiplication\n",
    "        self.z1 = np.dot(self.input_layer, self.weights1) + self.bias1\n",
    "        self.hidden_layer = self.sigmoid(self.z1)\n",
    "        \n",
    "        #calculation of Layer_3(Predicted_Output_Layer)\n",
    "        self.z2 = np.dot(self.hidden_layer, self.weights2) + self.bias2\n",
    "        self.predicted_output = self.sigmoid(self.z2)\n",
    "        return self.predicted_output\n",
    "\n",
    "# backpropogation process (loss function -> MSE \"Mean Squared Error\")\n",
    "# O<------------O\n",
    "    def backpropogation(self):\n",
    "        #loss function MSE\n",
    "        #derivative of the MSE Function\n",
    "        error = 2*(self.real_output - self.predicted_output)\n",
    "        #derivative of the sigmoid function\n",
    "        derivative_sigmoid1 = self.sigmoid_derivative(self.predicted_output)\n",
    "        \n",
    "        weights2_update = np.dot(self.hidden_layer.T, error * derivative_sigmoid1)\n",
    "        weights1_update = np.dot(self.input_layer.T, (np.dot(error * \n",
    "                                self.sigmoid_derivative(self.predicted_output), self.weights2.T) *\n",
    "                                self.sigmoid_derivative(self.hidden_layer)))\n",
    "        \n",
    "        self.weights2 += weights2_update * self.learning_rate\n",
    "        self.weights1 += weights1_update * self.learning_rate\n",
    "        \n",
    "        return error\n",
    "    \n",
    "    def training(self, number_of_training):\n",
    "        loss_value_list = []\n",
    "        for i in range (0, number_of_training):\n",
    "            self.prediction(self.input_layer)\n",
    "            loss_value_list.append(sum(self.backpropogation())/4)\n",
    "            \n",
    "        loss_value_arr = np.array(loss_value_list)\n",
    "        la = loss_value_arr\n",
    "        epoch = np.array(range(1,100001))\n",
    "        epoch = epoch.reshape(100000,1)\n",
    "        #plot the absolute value of the error\n",
    "        plt.plot(epoch, abs(loss_value_arr))\n",
    "        plt.show"
   ]
  },
  {
   "cell_type": "code",
   "execution_count": 37,
   "metadata": {},
   "outputs": [
    {
     "data": {
      "image/png": "[encoded data removed]",
      "text/plain": [
       "<Figure size 432x288 with 1 Axes>"
      ]
     },
     "metadata": {
      "needs_background": "light"
     },
     "output_type": "display_data"
    }
   ],
   "source": [
    "training_input = np.array([[0,0],\n",
    "                           [0,1],\n",
    "                           [1,0],\n",
    "                           [1,1]])\n",
    "                           \n",
    "training_outputs = np.array([[0,1,1,0]]).T\n",
    "                           \n",
    "#if the learning rate is too small, it takes longer fo the network to learn\n",
    "neural_network1 = Neural_Network(training_input, training_outputs, 0.5)\n",
    "neural_network1.training(100000)                           "
   ]
  },
  {
   "cell_type": "code",
   "execution_count": 38,
   "metadata": {},
   "outputs": [
    {
     "name": "stdout",
     "output_type": "stream",
     "text": [
      "Answer is 1\n",
      "[0.97998206]\n"
     ]
    }
   ],
   "source": [
    "test = np.array([1,0])\n",
    "result = neural_network1.prediction(test)\n",
    "if(result < 0.5):\n",
    "    print('Answer is 0')\n",
    "else:\n",
    "    print('Answer is 1')\n",
    "print(result)    "
   ]
  }
 ],
 "metadata": {
  "kernelspec": {
   "display_name": "Python 3",
   "language": "python",
   "name": "python3"
  },
  "language_info": {
   "codemirror_mode": {
    "name": "ipython",
    "version": 3
   },
   "file_extension": ".py",
   "mimetype": "text/x-python",
   "name": "python",
   "nbconvert_exporter": "python",
   "pygments_lexer": "ipython3",
   "version": "3.7.3"
  }
 },
 "nbformat": 4,
 "nbformat_minor": 2
}
